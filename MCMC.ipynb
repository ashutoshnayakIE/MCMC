{
 "cells": [
  {
   "cell_type": "markdown",
   "metadata": {},
   "source": [
    "<h2>MCMC tutorial</h2>\n",
    "\n",
    "MCMC is listed as one of the top 10 algorithms of the 20th century. In this tutorial, we go through what is MCMC, when it is required and how to implement MCMC in python. We will also discuss a python library pymc3 for MCMC simulation. In this tutorial we will just give a hint on some of the important topics which we will require here but we will ourselves dont cover here."
   ]
  },
  {
   "cell_type": "code",
   "execution_count": 32,
   "metadata": {},
   "outputs": [],
   "source": [
    "import random\n",
    "import math\n",
    "import matplotlib. pyplot as plt\n",
    "import numpy as np\n",
    "from ipywidgets import interact, interactive, fixed, interact_manual"
   ]
  },
  {
   "cell_type": "markdown",
   "metadata": {},
   "source": [
    "<h2>Bayes Theorem</h2>\n",
    "\n",
    "Bayes theorem forms the basis for bayesian statistics. Before reading further, please see <a href=\"https://www.youtube.com/watch?v=HZGCoVF3YvM\">this</a> video. It visually explains what bayes theorem is and how the formula for the bayes theorem is derived. Bayes theorem is based on belief (prior distribution) which we update (to posterior distribution) based on the observations (data/evidence). MCMC is based on using bayes theorem.\n",
    "\n",
    "<img src='Bayes.png' width=600></image>\n",
    "\n",
    "\n",
    "<center>Figure 1. Bayes Theorem</center>"
   ]
  },
  {
   "cell_type": "markdown",
   "metadata": {},
   "source": [
    "<h2>Markov Chains</h2>\n",
    "\n",
    "Markov chain is a system that experience transition from one state to another. This transition is only based on the past state. For example, the probability that it will rain tomorrow depends only on the weather conditions today (if our system transitions from one state to another where time resolution is a day). This property is called <i>memoryless property</i>. This transition from one state to another happens probabilistically (based on a state transition matrix). Sine we collect a sequence of events (where the state changes probabilistically and not deterministically), we call Markov chain as a stochastic process.\n",
    "\n",
    "In Markov chains, we need to know:\n",
    "1. initial probability (what is the probability that the system starts from one of the given states)\n",
    "2. state transition function (transition probability function from one state to another, could be a probability matrix)\n",
    "\n",
    "Ergodicity is an important property of Markov chain which we will use in this tutorial. It has two properties:\n",
    "1. Aperiodic: the Markov chain is not periodic. It does not return to one of its states periodically in fixed number of steps\n",
    "2. Recurrent/irreducible: we should be able to reach from one state to another in finite number of steps with non-zero probability. It simply means, we are not getting stuck in one of the states (absorbing state) or missing out one of the states"
   ]
  },
  {
   "cell_type": "markdown",
   "metadata": {},
   "source": [
    "<h2>Random numbers</h2>\n",
    "\n",
    "Random number is a function that draws samples from a distribution. For example, if we know the mean and variance of data of interest (example height of adults in USA), we can draw a sample from that distribution. This sample is called random number and process is called random number generation. \n",
    "\n",
    "We use random number generation in simulation. For example, if we understand the past behavior of a user when we give them coupons, we can simulate how will they behave in future. There are a lot of system which we simulate because sometimes it is very hard to solve a problem analytically. Most of large systems are simulated for many years. For example, if a factory decides to buy a new machine, they will simulate as how much cost it will reduce for the company if they buy it. Since they have not bought it, they need to simulate the system. And for simulation and its analysis, we need data. This data is generated (or sampled from distribution) using random number generation. \n",
    "\n",
    "<b>This has to be random</b>. Why? Because no system in the world is deterministic. There is always randomness and uncertainty. By random number, we can not only check how our proposed solution (of buying or not buying that machine) will perform, we can also check what can be the worst case scenario (may be it will slow the speed of manufacturing as employees cannot move fast in the shop floor)."
   ]
  },
  {
   "cell_type": "markdown",
   "metadata": {},
   "source": [
    "<h2>Monte Carlo Simulation</h2>\n",
    "\n",
    "Monte Carlo simulation uses random sampling to obtain numerical results we care about. For example, in the above example, we can run the simulation for 10 years and see how much it will reduce our manufacturing cost. Monte carlo simulation is based on the principle that the more and more sample we collect, we move towards ground truth or reality (given that these samples are drawn from the right distribution). Monte Carlo simulation is used in a lot of fields e.f. optimization and machine learning.\n",
    "\n",
    "<b>Example:</b> <br>\n",
    "This is the most common example used to explain Monte Carlo simulation. Suppose we dont know the value of $\\pi$. We can use a simulation to calculate the value of $\\pi$. We know that area of circle = $\\pi r^2$. As we consider a radius of 1, the area of under the circle = $\\pi$. Area of square is 2 x 2 = 4 units as the square moves from -1 to 1 in x and y. We also know that points lying outside the radius are not within the circle. So the area is given by 4 x proportion lying inside circle. Process is:\n",
    "1. let inside = 0, outside = 0\n",
    "2. draw random number x1 and x2 uniformly from -1 to 1 (it contains the circle in left side of figure).\n",
    "3. if the point (x1,x2) lie within the circle ($x1^2+x2^2<=1$), inside += 1 or outside += 1\n",
    "4. $\\pi$ is given by 4 x inside/(inside+outside)"
   ]
  },
  {
   "cell_type": "code",
   "execution_count": 55,
   "metadata": {},
   "outputs": [
    {
     "data": {
      "application/vnd.jupyter.widget-view+json": {
       "model_id": "eed9832a9f4441c7ac8830c0dfb49df2",
       "version_major": 2,
       "version_minor": 0
      },
      "text/plain": [
       "interactive(children=(IntSlider(value=100, description='n', max=2000, min=100, step=100), Output()), _dom_clas…"
      ]
     },
     "metadata": {},
     "output_type": "display_data"
    }
   ],
   "source": [
    "@interact(n = (100,2000,100))\n",
    "def example(n = 100):\n",
    "    \n",
    "    fig = plt.figure(figsize=(10,4))\n",
    "    ax1 = fig.add_subplot(121)\n",
    "    ax2 = fig.add_subplot(122)\n",
    "\n",
    "    circle = plt.Circle((0, 0), 1, color='blue',fill=False)\n",
    "    ax1.add_artist(circle)\n",
    "    ax1.set_xlim([-1,1])\n",
    "    ax1.set_ylim([-1,1])\n",
    "    ax1.set_title(\"Circle with radius 1\");\n",
    "\n",
    "    print('n:',n)\n",
    "    \n",
    "    x1 = np.random.uniform(-1,1,n)\n",
    "    x2 = np.random.uniform(-1,1,n)\n",
    "    \n",
    "    check   = x1*x1+x2*x2           # creating a variable to check if it lies inside the circle or not\n",
    "    inside  = np.where(check<=1)    # checking which points lie inside\n",
    "    outside = np.where(check> 1)    # checking which points lie outside\n",
    "    color = np.array(['black']*n)   # creating the color\n",
    "    color[inside] = 'red'           # updating the color\n",
    "    \n",
    "    ax2.scatter(x1,x2,c=color)\n",
    "    ax2.set_xlim([-1,1])\n",
    "    ax2.set_ylim([-1,1])\n",
    "    ax2.set_title(\"pi = 4 x ratio:\"+str(4*len(inside[0])/(len(inside[0])+len(outside[0]))));\n"
   ]
  },
  {
   "cell_type": "markdown",
   "metadata": {},
   "source": [
    "<h2>Common Random Numbers</h2>"
   ]
  },
  {
   "cell_type": "markdown",
   "metadata": {},
   "source": [
    "Every time we run this code, the values will be different (because these number are randomly generated). This brings to a an important point where we want to test which model performs better. If everything is random, there is a chance that while simulating, one simulation might get lucky and get the random numbers that show that this model is better than the other models. This is however, only due to the fact that it got favorable random numbers. If we run the simulation a large number of times, the chances of this happening will be small but nevertheless, the chances are non-zero. \n",
    "\n",
    "In such cases, we use <b>common random number</b>. We set the seed for the random number generator. So whenever we build, say three models to compare, start generating the random numbers using a common seed. This will generate same sequence of random number for all the models. Thus, we can compare apples to apples (fair comparison). An example is shown below."
   ]
  },
  {
   "cell_type": "code",
   "execution_count": 60,
   "metadata": {},
   "outputs": [
    {
     "name": "stdout",
     "output_type": "stream",
     "text": [
      "[0.64589411 0.43758721 0.891773   0.96366276 0.38344152]\n",
      "[0.79172504 0.52889492 0.56804456 0.92559664 0.07103606]\n",
      "[0.5488135  0.71518937 0.60276338 0.54488318 0.4236548 ]\n",
      "[0.5488135  0.71518937 0.60276338 0.54488318 0.4236548 ]\n"
     ]
    }
   ],
   "source": [
    "a = np.random.uniform(0,1,5)\n",
    "b = np.random.uniform(0,1,5)\n",
    "\n",
    "# print a and b, and see that they are different\n",
    "print(a)\n",
    "print(b)\n",
    "\n",
    "# now we set the seed before generating random numbers\n",
    "np.random.seed(0)                # setting the seed\n",
    "a = np.random.uniform(0,1,5)\n",
    "\n",
    "np.random.seed(0)                # using the same seed\n",
    "b = np.random.uniform(0,1,5)\n",
    "\n",
    "# printing will show that both a and b have the same values\n",
    "print(a)\n",
    "print(b)"
   ]
  },
  {
   "cell_type": "markdown",
   "metadata": {},
   "source": [
    "<h2>Random Number Generation</h2>"
   ]
  },
  {
   "cell_type": "markdown",
   "metadata": {},
   "source": [
    "Researchers have developed methods to generate these random numbers from standardized distributions. We can now easily and confidently draw random samples from standard distribution. Some of the techniques are:\n",
    "1. CDF inversion method           https://blogs.sas.com/content/iml/2013/07/22/the-inverse-cdf-method.html\n",
    "2. Acceptance - rejection method  http://www.columbia.edu/~ks20/4703-Sigman/4703-07-Notes-ARM.pdf\n",
    "3. Box-Mueller technique          http://bjlkeng.github.io/posts/sampling-from-a-normal-distribution/\n",
    "\n",
    "But life is not that kind. More often than we think, we have to draw samples from a complex distribution. It becomes more and more difficult as the dimension of the distribution increases and we cannot even visualize if we are drawing from the right distribution or not. For such complicated distributions, we need MCMC. In MCMC, we will use all the concepts discussed above to draw samples from a distribution we want to draw from."
   ]
  },
  {
   "cell_type": "code",
   "execution_count": null,
   "metadata": {},
   "outputs": [],
   "source": []
  }
 ],
 "metadata": {
  "hide_input": false,
  "kernelspec": {
   "display_name": "Python 3",
   "language": "python",
   "name": "python3"
  },
  "language_info": {
   "codemirror_mode": {
    "name": "ipython",
    "version": 3
   },
   "file_extension": ".py",
   "mimetype": "text/x-python",
   "name": "python",
   "nbconvert_exporter": "python",
   "pygments_lexer": "ipython3",
   "version": "3.7.3"
  },
  "toc": {
   "base_numbering": 1,
   "nav_menu": {},
   "number_sections": true,
   "sideBar": true,
   "skip_h1_title": false,
   "title_cell": "Table of Contents",
   "title_sidebar": "Contents",
   "toc_cell": false,
   "toc_position": {},
   "toc_section_display": true,
   "toc_window_display": true
  },
  "varInspector": {
   "cols": {
    "lenName": 16,
    "lenType": 16,
    "lenVar": 40
   },
   "kernels_config": {
    "python": {
     "delete_cmd_postfix": "",
     "delete_cmd_prefix": "del ",
     "library": "var_list.py",
     "varRefreshCmd": "print(var_dic_list())"
    },
    "r": {
     "delete_cmd_postfix": ") ",
     "delete_cmd_prefix": "rm(",
     "library": "var_list.r",
     "varRefreshCmd": "cat(var_dic_list()) "
    }
   },
   "types_to_exclude": [
    "module",
    "function",
    "builtin_function_or_method",
    "instance",
    "_Feature"
   ],
   "window_display": false
  }
 },
 "nbformat": 4,
 "nbformat_minor": 2
}
